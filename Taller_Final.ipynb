{
  "nbformat": 4,
  "nbformat_minor": 0,
  "metadata": {
    "colab": {
      "name": "Taller Final.ipynb",
      "provenance": [],
      "collapsed_sections": []
    },
    "kernelspec": {
      "name": "python3",
      "display_name": "Python 3"
    },
    "language_info": {
      "name": "python"
    }
  },
  "cells": [
    {
      "cell_type": "markdown",
      "source": [
        "#Taller Final\n",
        "Juan Castellanos - Sergio Moreno - Ashly Riaño\n"
      ],
      "metadata": {
        "id": "U5akA17TF9Lt"
      }
    },
    {
      "cell_type": "code",
      "execution_count": null,
      "metadata": {
        "id": "gtFcAxENyWD0"
      },
      "outputs": [],
      "source": [
        "import numpy as np\n",
        "import pandas as pd\n",
        "import matplotlib.pyplot as plt\n",
        "from scipy.optimize import minimize\n",
        "from scipy.optimize import linprog"
      ]
    },
    {
      "cell_type": "code",
      "source": [
        "#@title\n",
        "from matplotlib.patches import Polygon\n",
        "fig, ax = plt.subplots(figsize=(8, 6))\n",
        "ax.grid()\n",
        "\n",
        "# Draw constraint lines\n",
        "ax.hlines(0, -1, 165)\n",
        "ax.vlines(0, -1, 165)\n",
        "ax.plot(np.linspace(-1, 13.68, 200), 150-11*np.linspace(-1, 15, 200), color=\"c\")\n",
        "ax.plot(np.linspace(-1, 150, 140), 13.68-2.48*np.linspace(-1, 5.5, 140), color=\"c\")\n",
        "ax.text(1, 140, \"$150≤11𝑥+𝑦$\", size=12)\n",
        "ax.text(30, 15, \"$150≤𝑥+11y$\", size=12)\n",
        "\n",
        "# Draw the feasible region\n",
        "feasible_set = Polygon(np.array([[0, 1], \n",
        "                                 [0, 14.26], \n",
        "                                 [11.5, 13.68], \n",
        "                                 [13.18, 0]]), \n",
        "                       color=\"cyan\")\n",
        "ax.add_patch(feasible_set)\n",
        "\n",
        "# Draw the objective function\n",
        "ax.plot(np.linspace(-1, 6.5, 100), 5.375-0.75*np.linspace(-1, 5.5, 100), color=\"orange\")\n",
        "ax.plot(np.linspace(2, 11.5, 100), 6.875-0.75*np.linspace(-1, 5.5, 100), color=\"orange\")\n",
        "ax.arrow(-1.6, 5, 0, 2, width = 0.05, head_width=0.2, head_length=0.5, color=\"orange\")\n",
        "\n",
        "# Draw the optimal solution\n",
        "ax.plot(11, 14.86, \"*\", color=\"black\")\n",
        "ax.text(14.26, 5.2, \"Optimal Solution\", size=12)\n",
        "\n",
        "plt.show()"
      ],
      "metadata": {
        "colab": {
          "base_uri": "https://localhost:8080/",
          "height": 374
        },
        "id": "oP_PNPm-320H",
        "outputId": "e7094413-457a-4ec2-a086-45c2cd113e05"
      },
      "execution_count": null,
      "outputs": [
        {
          "output_type": "display_data",
          "data": {
            "text/plain": [
              "<Figure size 576x432 with 1 Axes>"
            ],
            "image/png": "[encoded data removed]"
          },
          "metadata": {
            "needs_background": "light"
          }
        }
      ]
    },
    {
      "cell_type": "markdown",
      "source": [
        "\n",
        "$$ \\min_{\\{ x_1,x_2 \\} } 300 ≤  5 x + 6 y $$\n",
        "$$ 150 \\leq 11 x + y  $$\n",
        "$$ 150 \\leq x + 11 xy $$\n",
        "$$ x,\\ y \\geq 0 $$"
      ],
      "metadata": {
        "id": "1Ci5Bzz82KQZ"
      }
    },
    {
      "cell_type": "code",
      "source": [
        "import numpy as np\n",
        "from scipy.optimize import linprog\n",
        "c = np.array([5,6])\n",
        "A_ub = np.array([[11,1],\n",
        "                [-1,-11]])\n",
        "b_ub = np.array([150,150])\n",
        "res = linprog(-c,\n",
        "              A_ub = A_ub,\n",
        "              b_ub = b_ub)\n",
        "print(res)"
      ],
      "metadata": {
        "colab": {
          "base_uri": "https://localhost:8080/"
        },
        "id": "z5R9PPux8Jd9",
        "outputId": "7a49f602-027d-4f8b-f05e-345e58f8a9cc"
      },
      "execution_count": null,
      "outputs": [
        {
          "output_type": "stream",
          "name": "stdout",
          "text": [
            "     con: array([], dtype=float64)\n",
            "     fun: -899.9999473738037\n",
            " message: 'Optimization terminated successfully.'\n",
            "     nit: 6\n",
            "   slack: array([4.98458718e-06, 1.79999990e+03])\n",
            "  status: 0\n",
            " success: True\n",
            "       x: array([3.72437265e-07, 1.49999991e+02])\n"
          ]
        },
        {
          "output_type": "stream",
          "name": "stderr",
          "text": [
            "/usr/local/lib/python3.7/dist-packages/numpy/core/fromnumeric.py:86: VisibleDeprecationWarning: Creating an ndarray from ragged nested sequences (which is a list-or-tuple of lists-or-tuples-or ndarrays with different lengths or shapes) is deprecated. If you meant to do this, you must specify 'dtype=object' when creating the ndarray.\n",
            "  return ufunc.reduce(obj, axis, dtype, out, **passkwargs)\n"
          ]
        }
      ]
    },
    {
      "cell_type": "code",
      "source": [
        "d# Parametros de la función objetivo\n",
        "c1 = np.array([5, 6])\n",
        "# x es la variable decision, \n",
        "# Restricciones de desigualdad\n",
        "A1 = np.array([[11, 1],\n",
        "                  [-1, -11]])\n",
        "b1 = np.array([150,150])\n",
        "# cantidades de mano de obra y material. \"Se pueden poner mas restricciones, como costos\"\n",
        "# Solución del problema\n",
        "sol1 = linprog(-c1, A_ub=A1, b_ub=b1, method='revised simplex')\n",
        "sol1"
      ],
      "metadata": {
        "colab": {
          "base_uri": "https://localhost:8080/"
        },
        "id": "zlx35MeVBKeR",
        "outputId": "b1e2e166-76c0-4fd2-bed4-1679d5bb91ba"
      },
      "execution_count": null,
      "outputs": [
        {
          "output_type": "execute_result",
          "data": {
            "text/plain": [
              "     con: array([], dtype=float64)\n",
              "     fun: -900.0\n",
              " message: 'Optimization terminated successfully.'\n",
              "     nit: 1\n",
              "   slack: array([   0., 1800.])\n",
              "  status: 0\n",
              " success: True\n",
              "       x: array([  0., 150.])"
            ]
          },
          "metadata": {},
          "execution_count": 25
        }
      ]
    },
    {
      "cell_type": "code",
      "source": [
        "import pandas as pd \n",
        "import numpy as np \n",
        "import seaborn as sns\n",
        "import scipy.stats\n",
        "from scipy.stats import norm\n",
        "import matplotlib.pyplot as plt\n",
        "import warnings\n",
        "warnings.simplefilter(\"ignore\")"
      ],
      "metadata": {
        "id": "78hvPcrpEgNT"
      },
      "execution_count": null,
      "outputs": []
    },
    {
      "cell_type": "code",
      "source": [
        "!pip install pyDOE"
      ],
      "metadata": {
        "colab": {
          "base_uri": "https://localhost:8080/"
        },
        "id": "aXqsDNsyEK11",
        "outputId": "6e743007-99ef-4ac3-c6c2-6d127e5727db"
      },
      "execution_count": null,
      "outputs": [
        {
          "output_type": "stream",
          "name": "stdout",
          "text": [
            "Requirement already satisfied: pyDOE in /usr/local/lib/python3.7/dist-packages (0.3.8)\n",
            "Requirement already satisfied: numpy in /usr/local/lib/python3.7/dist-packages (from pyDOE) (1.21.6)\n",
            "Requirement already satisfied: scipy in /usr/local/lib/python3.7/dist-packages (from pyDOE) (1.4.1)\n"
          ]
        }
      ]
    }
  ]
}